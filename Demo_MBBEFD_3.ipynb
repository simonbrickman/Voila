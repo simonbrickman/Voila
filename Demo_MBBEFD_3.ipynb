{
 "cells": [
  {
   "cell_type": "code",
   "execution_count": 1,
   "id": "9ddc1ae3-b45c-4357-b650-7d8dc8c8192b",
   "metadata": {},
   "outputs": [],
   "source": [
    "import numpy as np # linear algebra\n",
    "import matplotlib.pyplot as plt\n",
    "import numba\n",
    "from numba import float64 as f64\n",
    "import ipywidgets as widgets\n",
    "from ipywidgets import FloatSlider, FloatLogSlider, IntSlider,HBox, VBox\n",
    "import matplotlib.ticker as mtick"
   ]
  },
  {
   "cell_type": "code",
   "execution_count": 2,
   "id": "7e27c408-69b0-42d2-8f07-583e43c69bb6",
   "metadata": {},
   "outputs": [],
   "source": [
    "@numba.vectorize\n",
    "def nb_clip(x, a, b):\n",
    "    # numba doesn't support np.clip yet...\n",
    "    if   x > b: return b\n",
    "    elif x < a: return a\n",
    "    else:       return x\n",
    "\n",
    "# ===============================================\n",
    "# Define the MBBEFD distribution, without class\n",
    "# ===============================================\n",
    "\n",
    "##remove class\n",
    "#replace X1,X2 with c and mpl values (SI already included) and replace functions of X1,X2 with new functions (for ilf,mpl and mean)\n",
    "\n",
    "@numba.vectorize([f64(f64, f64, f64, f64)])\n",
    "def _mbbefd_cdf(x, b, g, mpl):\n",
    "    # TODO: test all cases...\n",
    "    if (np.isnan(x) or np.isnan(b) or np.isnan(g) or np.isnan(mpl)) or not (b >= 0 and g >= 1 and mpl >= 0):\n",
    "        return np.nan\n",
    "    x /= mpl\n",
    "    if   x>=1:                    return 1\n",
    "    elif g==1 or b==0 or x==0:    return 0\n",
    "    elif b==1 and g>1:            return 1 - 1/(1+(g-1)*x)\n",
    "    elif (b*g)==1 and g>1:        return 1 - b**x \n",
    "    elif b>0 and b and (b*g)!=1 and g>1: return 1 - (1 - b) / ((g - 1) * (b ** (1 - x)) + (1 - g * b))\n",
    "    else: return np.nan\n",
    "\n",
    "@numba.vectorize([f64(f64, f64, f64, f64)])\n",
    "def _mbbefd_ppf(q, b, g, mpl):\n",
    "    # TODO: test all cases...\n",
    "    \n",
    "    if (np.isnan(q) or np.isnan(b) or np.isnan(g) or np.isnan(mpl)) or not (b >= 0 and g >= 1 and mpl >= 0):\n",
    "        return np.nan\n",
    "\n",
    "    if q <= 0: return 0\n",
    "    if q >= 1: return mpl # TODO: check\n",
    "    return mpl * (1 - np.log( ((1-b)/(1-q) - 1 + g*b) / (g-1) ) / np.log(b))\n",
    "\n",
    "@numba.vectorize([f64(f64, f64, f64, f64)])\n",
    "def _mbbefd_ilf(x, b, g, mpl):\n",
    "    # TODO: test all cases...\n",
    "    \n",
    "    if (np.isnan(x) or np.isnan(b) or np.isnan(g) or np.isnan(mpl)) or not (b >= 0 and g >= 1 and mpl >= 0):\n",
    "        return np.nan\n",
    "\n",
    "    if x > mpl: return 0 # TODO: check\n",
    "    res = np.log(((g-1)*b + (1 - g*b) * (b**(x/mpl))) / (1 - b)) / np.log(g*b)\n",
    "    return nb_clip(res, 0, 1) # TODO: check, mpl?\\\n",
    "\n",
    "@numba.vectorize([f64(f64, f64, f64)])\n",
    "def _mbbefd_mean(b, g, mpl):\n",
    "    # TODO: test\n",
    "    if (np.isnan(b) or np.isnan(g) or np.isnan(mpl)) or not (b >= 0 and g >= 1 and mpl >= 0):\n",
    "        return np.nan\n",
    "    return mpl * (np.log(g * b) * (1 - b) / np.log(b) / (1 - g * b))\n",
    "\n",
    "\n",
    "@numba.njit\n",
    "def MBBEFD_cdf(x,c,mpl):\n",
    "    b,g=MBBEFD_c(c)\n",
    "    return _mbbefd_cdf(x, b, g, mpl)\n",
    "\n",
    "@numba.njit\n",
    "def MBBEFD_ilf(x,c,mpl):\n",
    "    b,g=MBBEFD_c(c)\n",
    "    return _mbbefd_ilf(x, b, g, mpl)\n",
    "\n",
    "@numba.njit\n",
    "def MBBEFD_ppf(q,c,mpl):\n",
    "    b,g=MBBEFD_c(c)\n",
    "    return _mbbefd_ppf(q, b, g, mpl)\n",
    "\n",
    "@numba.njit\n",
    "def MBBEFD_mean(c,mpl):\n",
    "    b,g=MBBEFD_c(c)\n",
    "    return _mbbefd_mean(b, g, mpl)\n",
    "\n",
    "@numba.njit\n",
    "def MBBEFD_c(c):\n",
    "    b = np.exp(3.1 - 0.15 * (1 + c) * c)\n",
    "    g = np.exp((0.78 + 0.12 * c) * c)\n",
    "    return b,g"
   ]
  },
  {
   "cell_type": "code",
   "execution_count": 3,
   "id": "84f6220e-3138-4de8-b714-ad95dbb99563",
   "metadata": {},
   "outputs": [
    {
     "data": {
      "application/vnd.jupyter.widget-view+json": {
       "model_id": "5190c6b47881424c90cc81fe6aaaf01a",
       "version_major": 2,
       "version_minor": 0
      },
      "text/plain": [
       "interactive(children=(IntSlider(value=3, description='c', max=15, min=1), Output()), _dom_classes=('widget-int…"
      ]
     },
     "metadata": {},
     "output_type": "display_data"
    }
   ],
   "source": [
    "#testing\n",
    "# @widgets.interact(c=IntSlider(description='c', value=3, min=1, max=15, step=1))  \n",
    "# def getbg(c):\n",
    "#     c"
   ]
  },
  {
   "cell_type": "code",
   "execution_count": 4,
   "id": "c353267d-6310-4ac7-89ae-2b6a0e6dd679",
   "metadata": {},
   "outputs": [
    {
     "ename": "NameError",
     "evalue": "name 'c' is not defined",
     "output_type": "error",
     "traceback": [
      "\u001b[1;31m---------------------------------------------------------------------------\u001b[0m",
      "\u001b[1;31mNameError\u001b[0m                                 Traceback (most recent call last)",
      "\u001b[1;32m~\\AppData\\Local\\Temp/ipykernel_22808/3652622019.py\u001b[0m in \u001b[0;36m<module>\u001b[1;34m\u001b[0m\n\u001b[1;32m----> 1\u001b[1;33m @widgets.interact(b = FloatSlider(description='b', value=getbg(c)[1], min=1.0001, max=100, step=.1),\n\u001b[0m\u001b[0;32m      2\u001b[0m                   g = FloatLogSlider(description='g',value=getbg(c)[2],base=10,\n\u001b[0;32m      3\u001b[0m                   \u001b[0mmin\u001b[0m\u001b[1;33m=\u001b[0m\u001b[1;36m0\u001b[0m\u001b[1;33m,\u001b[0m \u001b[1;31m# min exponent of base\u001b[0m\u001b[1;33m\u001b[0m\u001b[1;33m\u001b[0m\u001b[0m\n\u001b[0;32m      4\u001b[0m                   \u001b[0mmax\u001b[0m\u001b[1;33m=\u001b[0m\u001b[1;36m3\u001b[0m\u001b[1;33m,\u001b[0m \u001b[1;31m# max exponent of base,\u001b[0m\u001b[1;33m\u001b[0m\u001b[1;33m\u001b[0m\u001b[0m\n\u001b[0;32m      5\u001b[0m                   step=.1))\n",
      "\u001b[1;31mNameError\u001b[0m: name 'c' is not defined"
     ]
    }
   ],
   "source": [
    "@widgets.interact(b = FloatSlider(description='b', value=5, min=1.0001, max=100, step=.1),\n",
    "                  g = FloatLogSlider(description='g',value=10, base=10,\n",
    "                  min=0, # min exponent of base\n",
    "                  max=3, # max exponent of base,\n",
    "                  step=.1))\n",
    "def f(b, g):\n",
    "    x = np.linspace(0, 1, 100)\n",
    "    f,(ax1, ax2) = plt.subplots(2,1, figsize=(12, 10), constrained_layout=True, sharex=True)\n",
    "    f.suptitle('MBBEFD general form (2 parameter) distributions for b,g = ' f' b={b:.5f} g={g:.5f}', fontsize=16)\n",
    "    ax1.plot(x, _mbbefd_cdf(x,b,g,1), linewidth=1.5)\n",
    "    ax2.plot(x, _mbbefd_ilf(x,b,g,1), linewidth=1.5)\n",
    "    \n",
    "    ax1.set_title('cdf')\n",
    "    \n",
    "    ax1.set_ylabel('cumulative probability')\n",
    "    ax2.set_title('ilf (exposure curve)')\n",
    "    ax2.set_xlabel('damage factor')\n",
    "    ax2.set_ylabel('premium share (of fgu premium)')\n",
    "   \n",
    "    for c in np.array([5,4,3,2,1]):\n",
    "        y = MBBEFD_cdf(x,c,1)\n",
    "        ax1.plot(x, y, linestyle='dashed', linewidth=1, color=(c/6,c/6,c/6))\n",
    "        b,g=MBBEFD_c(c)\n",
    "        y = MBBEFD_ilf(x,c,1)\n",
    "        ax2.plot(x, y, linestyle='dashed', linewidth=1, color=(c/6,c/6,c/6),label=f'c={c} b={b:.5f} g={g:.5f}')\n",
    "        ax2.legend();\n",
    "        \n",
    "    ax1.grid(True)\n",
    "    ax2.grid(True)\n",
    "    ax1.xaxis.set_major_formatter(mtick.PercentFormatter(xmax=1, decimals=None, symbol='%', is_latex=False))\n",
    "    ax1.yaxis.set_major_formatter(mtick.PercentFormatter(xmax=1, decimals=None, symbol='%', is_latex=False))\n",
    "    ax2.xaxis.set_major_formatter(mtick.PercentFormatter(xmax=1, decimals=None, symbol='%', is_latex=False))\n",
    "    ax2.yaxis.set_major_formatter(mtick.PercentFormatter(xmax=1, decimals=None, symbol='%', is_latex=False))"
   ]
  }
 ],
 "metadata": {
  "kernelspec": {
   "display_name": "Python 3 (ipykernel)",
   "language": "python",
   "name": "python3"
  },
  "language_info": {
   "codemirror_mode": {
    "name": "ipython",
    "version": 3
   },
   "file_extension": ".py",
   "mimetype": "text/x-python",
   "name": "python",
   "nbconvert_exporter": "python",
   "pygments_lexer": "ipython3",
   "version": "3.7.10"
  }
 },
 "nbformat": 4,
 "nbformat_minor": 5
}
