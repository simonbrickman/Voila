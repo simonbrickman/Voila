{
 "cells": [
  {
   "cell_type": "code",
   "execution_count": 1,
   "id": "95975f19",
   "metadata": {},
   "outputs": [],
   "source": [
    "import numpy as np # linear algebra\n",
    "#import matplotlib.pyplot as plt\n",
    "import numba\n",
    "from numba import float64 as f64\n",
    "#import ipywidgets as widgets \n",
    "from ipywidgets import FloatSlider, FloatLogSlider, HBox, VBox\n",
    "import matplotlib.ticker as mtick\n",
    "import bqplot.pyplot as plt\n",
    "from bqplot import DateScale, LinearScale, Lines, Axis, Figure"
   ]
  },
  {
   "cell_type": "markdown",
   "id": "b57e816b",
   "metadata": {},
   "source": [
    "# MBBEFD"
   ]
  },
  {
   "cell_type": "code",
   "execution_count": 2,
   "id": "6407eae3",
   "metadata": {},
   "outputs": [],
   "source": [
    "@numba.vectorize\n",
    "def nb_clip(x, a, b):\n",
    "    # numba doesn't support np.clip yet...\n",
    "    if   x > b: return b\n",
    "    elif x < a: return a\n",
    "    else:       return x\n",
    "\n",
    "# ===============================================\n",
    "# Define the MBBEFD distribution, without class\n",
    "# ===============================================\n",
    "\n",
    "##remove class\n",
    "#replace X1,X2 with c and mpl values (SI already included) and replace functions of X1,X2 with new functions (for ilf,mpl and mean)\n",
    "\n",
    "@numba.vectorize([f64(f64, f64, f64, f64)])\n",
    "def _mbbefd_cdf(x, b, g, mpl):\n",
    "    # TODO: test all cases...\n",
    "    if (np.isnan(x) or np.isnan(b) or np.isnan(g) or np.isnan(mpl)) or not (b >= 0 and g >= 1 and mpl >= 0):\n",
    "        return np.nan\n",
    "    x /= mpl\n",
    "    if   x>=1:                    return 1\n",
    "    elif g==1 or b==0 or x==0:    return 0\n",
    "    elif b==1 and g>1:            return 1 - 1/(1+(g-1)*x)\n",
    "    elif (b*g)==1 and g>1:        return 1 - b**x \n",
    "    elif b>0 and b and (b*g)!=1 and g>1: return 1 - (1 - b) / ((g - 1) * (b ** (1 - x)) + (1 - g * b))\n",
    "    else: return np.nan\n",
    "\n",
    "@numba.vectorize([f64(f64, f64, f64, f64)])\n",
    "def _mbbefd_ppf(q, b, g, mpl):\n",
    "    # TODO: test all cases...\n",
    "    \n",
    "    if (np.isnan(q) or np.isnan(b) or np.isnan(g) or np.isnan(mpl)) or not (b >= 0 and g >= 1 and mpl >= 0):\n",
    "        return np.nan\n",
    "\n",
    "    if q <= 0: return 0\n",
    "    if q >= 1: return mpl # TODO: check\n",
    "    return mpl * (1 - np.log( ((1-b)/(1-q) - 1 + g*b) / (g-1) ) / np.log(b))\n",
    "\n",
    "@numba.vectorize([f64(f64, f64, f64, f64)])\n",
    "def _mbbefd_ilf(x, b, g, mpl):\n",
    "    # TODO: test all cases...\n",
    "    \n",
    "    if (np.isnan(x) or np.isnan(b) or np.isnan(g) or np.isnan(mpl)) or not (b >= 0 and g >= 1 and mpl >= 0):\n",
    "        return np.nan\n",
    "\n",
    "    if x > mpl: return 0 # TODO: check\n",
    "    res = np.log(((g-1)*b + (1 - g*b) * (b**(x/mpl))) / (1 - b)) / np.log(g*b)\n",
    "    return nb_clip(res, 0, 1) # TODO: check, mpl?\\\n",
    "\n",
    "@numba.vectorize([f64(f64, f64, f64)])\n",
    "def _mbbefd_mean(b, g, mpl):\n",
    "    # TODO: test\n",
    "    if (np.isnan(b) or np.isnan(g) or np.isnan(mpl)) or not (b >= 0 and g >= 1 and mpl >= 0):\n",
    "        return np.nan\n",
    "    return mpl * (np.log(g * b) * (1 - b) / np.log(b) / (1 - g * b))\n",
    "\n",
    "\n",
    "@numba.njit\n",
    "def MBBEFD_cdf(x,c,mpl):\n",
    "    b,g=MBBEFD_c(c)\n",
    "    return _mbbefd_cdf(x, b, g, mpl)\n",
    "\n",
    "@numba.njit\n",
    "def MBBEFD_ilf(x,c,mpl):\n",
    "    b,g=MBBEFD_c(c)\n",
    "    return _mbbefd_ilf(x, b, g, mpl)\n",
    "\n",
    "@numba.njit\n",
    "def MBBEFD_ppf(q,c,mpl):\n",
    "    b,g=MBBEFD_c(c)\n",
    "    return _mbbefd_ppf(q, b, g, mpl)\n",
    "\n",
    "@numba.njit\n",
    "def MBBEFD_mean(c,mpl):\n",
    "    b,g=MBBEFD_c(c)\n",
    "    return _mbbefd_mean(b, g, mpl)\n",
    "\n",
    "@numba.njit\n",
    "def MBBEFD_c(c):\n",
    "    b = np.exp(3.1 - 0.15 * (1 + c) * c)\n",
    "    g = np.exp((0.78 + 0.12 * c) * c)\n",
    "    return b,g"
   ]
  },
  {
   "cell_type": "markdown",
   "id": "fcfc6685",
   "metadata": {},
   "source": [
    "## Distributions of MBBEFD"
   ]
  },
  {
   "cell_type": "code",
   "execution_count": 3,
   "id": "e0286557-2a86-4d80-bd72-338b2817eb8b",
   "metadata": {},
   "outputs": [],
   "source": [
    "# plot the MBBEFD curves\n",
    "x = np.linspace(0, 1, 100)\n",
    "cs = np.array([5,4,3,2,1])\n",
    "b,g=5,10\n",
    "\n",
    "#1st chart\n",
    "title_tmpl_1 = 'MBBEFD cdf(b={:.5f} and g={:.5f})'\n",
    "fig1 = plt.figure(title=title_tmpl_1.format(b,g))\n",
    "#plt.xlabel(\"Damage Factor\")\n",
    "#plt.ylabel(\"cumulative probability\")\n",
    "\n",
    "ys1 = [MBBEFD_cdf(x,c,1) for c in cs]\n",
    "line_chart_1 = plt.plot(x=x, y=[*ys1], stroke_width=1,labels=[\"c=5\",\"c=4\",\"c=3\",\"c=2\",\"c=1\"])\n",
    "line_chart_1 = plt.plot(x=x, y=_mbbefd_cdf(x,b,g,1),stroke_width=3)\n",
    "#line_chart_1.tooltip = Tooltip(fields=[\"x\", \"y\"], labels=[\"Damage Factor\", \"cdf\"])\n",
    "\n",
    "#2nd chart\n",
    "title_tmpl_2 = 'ilf (exposure curve) (b={:.5f} and g={:.5f})'\n",
    "fig2 = plt.figure(title=title_tmpl_2.format(b,g))\n",
    "plt.xlabel(\"Damage Factor\")\n",
    "plt.ylabel(\"premium share (of fgu premium)\")\n",
    "\n",
    "ys2 = [MBBEFD_ilf(x,c,1) for c in cs]\n",
    "line_chart_2 = plt.plot(x=x, y=[*ys2], stroke_width=1, display_legend=True)\n",
    "line_chart_2 = plt.plot(x=x, y=_mbbefd_ilf(x,b,g,1),stroke_width=3)\n",
    "\n",
    "# fig2.Legend_Location='bottom_right'\n",
    "# #line_chart.tooltip = Tooltip(fields=[\"x\", \"y\"], labels=[\"Damage Factor\", \"premium share\"])\n",
    "\n",
    "\n",
    "\n"
   ]
  },
  {
   "cell_type": "code",
   "execution_count": 4,
   "id": "f9a81ca7-c433-4533-9764-2a3e57bc6ee6",
   "metadata": {},
   "outputs": [],
   "source": [
    "# use two sliders to represent mu and sigma\n",
    "b_slider = FloatSlider(description='b', value=5, min=1.0001, max=100, step=.1)\n",
    "g_slider = FloatLogSlider(description='g',value=10,base=10,\n",
    "    min=0, # min exponent of base\n",
    "    max=3, # max exponent of base,\n",
    "    step=.1)\n",
    "\n",
    "slider_layout = HBox([b_slider, g_slider])"
   ]
  },
  {
   "cell_type": "code",
   "execution_count": 5,
   "id": "f97a1966",
   "metadata": {
    "tags": []
   },
   "outputs": [],
   "source": [
    "def update_chart(change):\n",
    "    b=b_slider.value\n",
    "    g=g_slider.value\n",
    "    \n",
    "    #1st chart\n",
    "    line_chart_1.y = _mbbefd_cdf(x,b,g,1)\n",
    "    line_chart_1.stroke_width= 3\n",
    "     \n",
    "    # also update the fig title\n",
    "    fig1.title = title_tmpl_1.format(b, g)\n",
    "      \n",
    "    #2nd chart\n",
    "    line_chart_2.y = _mbbefd_ilf(x,b,g,1)\n",
    "    line_chart_2.stroke_width= 3\n",
    "    fig2.title = title_tmpl_2.format(b, g)\n",
    "    \n",
    "    #fig=fig1.append(fig2)\n",
    "    \n",
    "# register the above callback with the 'value' trait of the sliders\n",
    "b_slider.observe(update_chart, 'value')\n",
    "g_slider.observe(update_chart, 'value')   \n",
    "    "
   ]
  },
  {
   "cell_type": "code",
   "execution_count": 6,
   "id": "02ebb9dd-86ac-4df1-b4a1-ca93f91db291",
   "metadata": {},
   "outputs": [
    {
     "data": {
      "application/vnd.jupyter.widget-view+json": {
       "model_id": "c668852d3cf64f81891ff685516897ea",
       "version_major": 2,
       "version_minor": 0
      },
      "text/plain": [
       "VBox(children=(Figure(axes=[Axis(scale=LinearScale()), Axis(orientation='vertical', scale=LinearScale())], fig…"
      ]
     },
     "metadata": {},
     "output_type": "display_data"
    }
   ],
   "source": [
    "# now put all the widgets together into a simple dashboard\n",
    "# the plot should update now when the slider values are updated!\n",
    "final_layout = VBox([fig1,fig2, slider_layout])\n",
    "final_layout"
   ]
  },
  {
   "cell_type": "code",
   "execution_count": null,
   "id": "76df6abd-364f-4273-8e72-0dd6738d6e22",
   "metadata": {},
   "outputs": [],
   "source": []
  }
 ],
 "metadata": {
  "kernelspec": {
   "display_name": "Python 3 (ipykernel)",
   "language": "python",
   "name": "python3"
  },
  "language_info": {
   "codemirror_mode": {
    "name": "ipython",
    "version": 3
   },
   "file_extension": ".py",
   "mimetype": "text/x-python",
   "name": "python",
   "nbconvert_exporter": "python",
   "pygments_lexer": "ipython3",
   "version": "3.9.7"
  }
 },
 "nbformat": 4,
 "nbformat_minor": 5
}
