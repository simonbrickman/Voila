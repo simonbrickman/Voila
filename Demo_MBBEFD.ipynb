{
 "cells": [
  {
   "cell_type": "code",
   "execution_count": 1,
   "id": "932c2e4f",
   "metadata": {},
   "outputs": [],
   "source": [
    "# This Python 3 environment comes with many helpful analytics libraries installed\n",
    "# It is defined by the kaggle/python Docker image: https://github.com/kaggle/docker-python\n",
    "# For example, here's several helpful packages to load\n",
    "\n",
    "import numpy as np # linear algebra\n",
    "import pandas as pd # data processing, CSV file I/O (e.g. pd.read_csv)\n",
    "import matplotlib.pyplot as plt\n",
    "import numba\n",
    "from numba import float64 as f64\n",
    "import ipywidgets as widgets\n",
    "import matplotlib.ticker as mtick\n",
    "\n",
    "# Input data files are available in the read-only \"../input/\" directory\n",
    "# For example, running this (by clicking run or pressing Shift+Enter) will list all files under the input directory\n",
    "\n",
    "import os\n",
    "for dirname, _, filenames in os.walk('/kaggle/input'):\n",
    "    for filename in filenames:\n",
    "        print(os.path.join(dirname, filename))\n",
    "\n",
    "# You can write up to 20GB to the current directory (/kaggle/working/) that gets preserved as output when you create a version using \"Save & Run All\" \n",
    "# You can also write temporary files to /kaggle/temp/, but they won't be saved outside of the current session"
   ]
  },
  {
   "cell_type": "markdown",
   "id": "a27e4a27",
   "metadata": {},
   "source": [
    "# MBBEFD"
   ]
  },
  {
   "cell_type": "code",
   "execution_count": 2,
   "id": "f899b40b",
   "metadata": {},
   "outputs": [],
   "source": [
    "@numba.vectorize\n",
    "def nb_clip(x, a, b):\n",
    "    # numba doesn't support np.clip yet...\n",
    "    if   x > b: return b\n",
    "    elif x < a: return a\n",
    "    else:       return x\n",
    "\n",
    "# ===============================================\n",
    "# Define the MBBEFD distribution, without class\n",
    "# ===============================================\n",
    "\n",
    "##remove class\n",
    "#replace X1,X2 with c and mpl values (SI already included) and replace functions of X1,X2 with new functions (for ilf,mpl and mean)\n",
    "\n",
    "@numba.vectorize([f64(f64, f64, f64, f64)])\n",
    "def _mbbefd_cdf(x, b, g, mpl):\n",
    "    # TODO: test all cases...\n",
    "    if (np.isnan(x) or np.isnan(b) or np.isnan(g) or np.isnan(mpl)) or not (b >= 0 and g >= 1 and mpl >= 0):\n",
    "        return np.nan\n",
    "    x /= mpl\n",
    "    if   x>=1:                    return 1\n",
    "    elif g==1 or b==0 or x==0:    return 0\n",
    "    elif b==1 and g>1:            return 1 - 1/(1+(g-1)*x)\n",
    "    elif (b*g)==1 and g>1:        return 1 - b**x \n",
    "    elif b>0 and b and (b*g)!=1 and g>1: return 1 - (1 - b) / ((g - 1) * (b ** (1 - x)) + (1 - g * b))\n",
    "    else: return np.nan\n",
    "\n",
    "@numba.vectorize([f64(f64, f64, f64, f64)])\n",
    "def _mbbefd_ppf(q, b, g, mpl):\n",
    "    # TODO: test all cases...\n",
    "    \n",
    "    if (np.isnan(q) or np.isnan(b) or np.isnan(g) or np.isnan(mpl)) or not (b >= 0 and g >= 1 and mpl >= 0):\n",
    "        return np.nan\n",
    "\n",
    "    if q <= 0: return 0\n",
    "    if q >= 1: return mpl # TODO: check\n",
    "    return mpl * (1 - np.log( ((1-b)/(1-q) - 1 + g*b) / (g-1) ) / np.log(b))\n",
    "\n",
    "@numba.vectorize([f64(f64, f64, f64, f64)])\n",
    "def _mbbefd_ilf(x, b, g, mpl):\n",
    "    # TODO: test all cases...\n",
    "    \n",
    "    if (np.isnan(x) or np.isnan(b) or np.isnan(g) or np.isnan(mpl)) or not (b >= 0 and g >= 1 and mpl >= 0):\n",
    "        return np.nan\n",
    "\n",
    "    if x > mpl: return 0 # TODO: check\n",
    "    res = np.log(((g-1)*b + (1 - g*b) * (b**(x/mpl))) / (1 - b)) / np.log(g*b)\n",
    "    return nb_clip(res, 0, 1) # TODO: check, mpl?\\\n",
    "\n",
    "@numba.vectorize([f64(f64, f64, f64)])\n",
    "def _mbbefd_mean(b, g, mpl):\n",
    "    # TODO: test\n",
    "    if (np.isnan(b) or np.isnan(g) or np.isnan(mpl)) or not (b >= 0 and g >= 1 and mpl >= 0):\n",
    "        return np.nan\n",
    "    return mpl * (np.log(g * b) * (1 - b) / np.log(b) / (1 - g * b))\n",
    "\n",
    "\n",
    "@numba.njit\n",
    "def MBBEFD_cdf(x,c,mpl):\n",
    "    b,g=MBBEFD_c(c)\n",
    "    return _mbbefd_cdf(x, b, g, mpl)\n",
    "\n",
    "@numba.njit\n",
    "def MBBEFD_ilf(x,c,mpl):\n",
    "    b,g=MBBEFD_c(c)\n",
    "    return _mbbefd_ilf(x, b, g, mpl)\n",
    "\n",
    "@numba.njit\n",
    "def MBBEFD_ppf(q,c,mpl):\n",
    "    b,g=MBBEFD_c(c)\n",
    "    return _mbbefd_ppf(q, b, g, mpl)\n",
    "\n",
    "@numba.njit\n",
    "def MBBEFD_mean(c,mpl):\n",
    "    b,g=MBBEFD_c(c)\n",
    "    return _mbbefd_mean(b, g, mpl)\n",
    "\n",
    "@numba.njit\n",
    "def MBBEFD_c(c):\n",
    "    b = np.exp(3.1 - 0.15 * (1 + c) * c)\n",
    "    g = np.exp((0.78 + 0.12 * c) * c)\n",
    "    return b,g"
   ]
  },
  {
   "cell_type": "markdown",
   "id": "441ab6bd",
   "metadata": {
    "tags": []
   },
   "source": [
    "## Distributions of MBBEFD"
   ]
  },
  {
   "cell_type": "code",
   "execution_count": 3,
   "id": "343250c5",
   "metadata": {},
   "outputs": [
    {
     "data": {
      "application/vnd.jupyter.widget-view+json": {
       "model_id": "741c727547b943988a5fbad94095168d",
       "version_major": 2,
       "version_minor": 0
      },
      "text/plain": [
       "interactive(children=(FloatSlider(value=26.000049999999998, description='b', max=51.0, min=1.0001), FloatSlide…"
      ]
     },
     "metadata": {},
     "output_type": "display_data"
    }
   ],
   "source": [
    "@widgets.interact(b=(1.0001, 51.0), log10_g=(0, 4.0))\n",
    "def f(b, log10_g):\n",
    "    g=10**log10_g\n",
    "    x = np.linspace(0, 1, 100)\n",
    "    f,(ax1, ax2) = plt.subplots(2,1, figsize=(12, 10), constrained_layout=True, sharex=True)\n",
    "    f.suptitle('MBBEFD general form (2 parameter) distributions for b,g = ' f' {b=:.5f} {g=:.5f}', fontsize=16)\n",
    "    ax1.plot(x, _mbbefd_cdf(x,b,g,1), linewidth=1.5)\n",
    "    ax2.plot(x, _mbbefd_ilf(x,b,g,1), linewidth=1.5)\n",
    "    \n",
    "    ax1.set_title('cdf')\n",
    "    \n",
    "    ax1.set_ylabel('cumulative probability')\n",
    "    ax2.set_title('ilf (exposure curve)')\n",
    "    ax2.set_xlabel('damage factor')\n",
    "    ax2.set_ylabel('premium share (of fgu premium)')\n",
    "   \n",
    "    for c in np.array([5,4,3,2,1]):\n",
    "        y = MBBEFD_cdf(x,c,1)\n",
    "        ax1.plot(x, y, linestyle='dashed', linewidth=1, color=(c/6,c/6,c/6))\n",
    "        b,g=MBBEFD_c(c)\n",
    "        y = MBBEFD_ilf(x,c,1)\n",
    "        ax2.plot(x, y, linestyle='dashed', linewidth=1, color=(c/6,c/6,c/6),label=f'{c=} {b=:.5f} {g=:.5f}')\n",
    "        ax2.legend();\n",
    "        \n",
    "    #ax1.rc('grid', linestyle=':', color='red', linewidth=.5)\n",
    "    ax1.grid(True)\n",
    "    ax2.grid(True)\n",
    "    ax1.xaxis.set_major_formatter(mtick.PercentFormatter(xmax=1, decimals=None, symbol='%', is_latex=False))\n",
    "    ax1.yaxis.set_major_formatter(mtick.PercentFormatter(xmax=1, decimals=None, symbol='%', is_latex=False))\n",
    "    ax2.xaxis.set_major_formatter(mtick.PercentFormatter(xmax=1, decimals=None, symbol='%', is_latex=False))\n",
    "    ax2.yaxis.set_major_formatter(mtick.PercentFormatter(xmax=1, decimals=None, symbol='%', is_latex=False))\n",
    " \n",
    "    \n",
    "    \n",
    "   \n",
    "        \n",
    "    \n",
    "    "
   ]
  }
 ],
 "metadata": {
  "kernelspec": {
   "display_name": "Python 3 (ipykernel)",
   "language": "python",
   "name": "python3"
  },
  "language_info": {
   "codemirror_mode": {
    "name": "ipython",
    "version": 3
   },
   "file_extension": ".py",
   "mimetype": "text/x-python",
   "name": "python",
   "nbconvert_exporter": "python",
   "pygments_lexer": "ipython3",
   "version": "3.9.2"
  }
 },
 "nbformat": 4,
 "nbformat_minor": 5
}
